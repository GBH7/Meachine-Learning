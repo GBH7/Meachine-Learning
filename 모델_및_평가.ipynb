{
  "nbformat": 4,
  "nbformat_minor": 0,
  "metadata": {
    "colab": {
      "provenance": [],
      "collapsed_sections": [],
      "authorship_tag": "ABX9TyNvfSsK1ZE7K2riWdphDr1I",
      "include_colab_link": true
    },
    "kernelspec": {
      "name": "python3",
      "display_name": "Python 3"
    },
    "language_info": {
      "name": "python"
    }
  },
  "cells": [
    {
      "cell_type": "markdown",
      "metadata": {
        "id": "view-in-github",
        "colab_type": "text"
      },
      "source": [
        "<a href=\"https://colab.research.google.com/github/GBH7/Meachine-Learning/blob/main/%EB%AA%A8%EB%8D%B8_%EB%B0%8F_%ED%8F%89%EA%B0%80.ipynb\" target=\"_parent\"><img src=\"https://colab.research.google.com/assets/colab-badge.svg\" alt=\"Open In Colab\"/></a>"
      ]
    },
    {
      "cell_type": "code",
      "execution_count": null,
      "metadata": {
        "id": "NxLn1ODciAHa"
      },
      "outputs": [],
      "source": [
        "#Linear Regression\n",
        "import pandas as pd\n",
        "import numpy as np\n",
        "from sklearn.linear_model import LinearRegression\n",
        "\n",
        "X = [8.70153760, 3.90825773, 1.89362433, 3.28730045, 7.39333004, 2.98984649, 2.25757240, 9.84450732, 9.94589513, 5.48321616]\n",
        "Y = [5.64413093, 3.75876583, 3.87233310, 4.40990425, 6.43845020, 4.02827829, 2.26105955, 7.15768995, 6.29097441, 5.19692852]\n",
        "\n",
        "train_X = pd.DataFrame(X, columns=['X'])\n",
        "train_Y = pd.Series(Y)\n",
        "\n",
        "lrmodel = LinearRegression()\n",
        "lrmodel.fit(train_X, train_Y)\n",
        "#linear regression의 베타0, 베타1값 구하기\n",
        "#beta_0 = lrmodel.intercept_\n",
        "#beta_1 = lrmodel.coef_[0]\n",
        "\n",
        "pred_X = lrmodel.predict(train_X)\n",
        "print('train_X에 대한 예측값 : \\n{}\\n'.format(pred_X))\n",
        "print('실제값 : \\n{}'.format(train_Y))"
      ]
    },
    {
      "cell_type": "code",
      "source": [
        "#다중 선형 회귀\n",
        "import numpy as np\n",
        "import pandas as pd\n",
        "from sklearn.linear_model import LinearRegression\n",
        "from sklearn.model_selection import train_test_split\n",
        "\n",
        "df = pd.read_csv(\"Advertising.csv\")\n",
        "df = df.drop(columns=['Unnamed: 0'])\n",
        "\n",
        "X = df.drop(columns=['Sales'])\n",
        "Y = df['Sales']\n",
        "\n",
        "train_X, test_X, train_Y, test_Y = train_test_split(X, Y, test_size=0.2, random_state=42)\n",
        "\n",
        "lrmodel = LinearRegression()\n",
        "lrmodel.fit(train_X, train_Y)\n",
        "#파라미터 구하기\n",
        "#lrmodel = LinearRegression()\n",
        "#lrmodel.intercept_: 베타0\n",
        "#lrmodel.coef_[i]: i+1번째 변수에 곱해지는 값\n",
        "pred_X = lrmodel.predict(test_X) \n",
        "\n",
        "# 새로운 데이터 df1 정의\n",
        "df1 = pd.DataFrame(np.array([[0, 0, 0], [1, 0, 0], [0, 1, 0], [0, 0, 1], [1, 1, 1]]), columns=['FB', 'TV', 'Newspaper'])\n",
        "print('df1 : ')\n",
        "print(df1)\n",
        "\n",
        "pred_df1 = lrmodel.predict(df1) \n",
        "print('df1에 대한 예측값 : \\n{}'.format(pred_df1))"
      ],
      "metadata": {
        "id": "FlVTUWBQiHEp"
      },
      "execution_count": null,
      "outputs": []
    },
    {
      "cell_type": "code",
      "source": [
        "#회귀 알고리즘 평가 지표 \n",
        "\n",
        "#RSS\n",
        "#np.sum( (y_true - y_pred) ** 2 )\n",
        "\n",
        "#MSE\n",
        "#mean_squared_error(y_true, y_pred)\n",
        "\n",
        "#MAE\n",
        "#mean_absolute_error(y_true, y_pred)\n",
        "\n",
        "#R2\n",
        "#mean_absolute_error(y_true, y_pred)"
      ],
      "metadata": {
        "id": "NEBWoexSiI7p"
      },
      "execution_count": null,
      "outputs": []
    },
    {
      "cell_type": "code",
      "source": [
        "#Decision Tree\n",
        "import pandas as pd\n",
        "from sklearn.datasets import load_iris\n",
        "from sklearn.tree import DecisionTreeClassifier\n",
        "from sklearn.model_selection import train_test_split\n",
        "\n",
        "X, Y = load_iris(return_X_y = True)\n",
        "\n",
        "df = pd.DataFrame(X, columns=['꽃받침 길이','꽃받침 넓이', '꽃잎 길이', '꽃잎 넓이'])\n",
        "df['클래스'] = Y\n",
        "\n",
        "X = df.drop(columns=['클래스'])\n",
        "Y = df['클래스']\n",
        "    \n",
        "train_X, test_X, train_Y, test_Y = train_test_split(X, Y, test_size=0.2, random_state = 42)\n",
        "\n",
        "DTmodel = DecisionTreeClassifier()\n",
        "DTmodel.fit(train_X, train_Y)\n",
        "\n",
        "pred_X = DTmodel.predict(test_X)"
      ],
      "metadata": {
        "id": "UwuHdy8aigAS"
      },
      "execution_count": null,
      "outputs": []
    },
    {
      "cell_type": "code",
      "source": [
        "#간단한 의사결정트리 구현\n",
        "import pandas as pd\n",
        "\n",
        "# 풍속을 threshold 값에 따라 분리하는 의사결정나무 모델 함수\n",
        "def binary_tree(data, threshold):\n",
        "    \n",
        "    yes = []\n",
        "    no = []\n",
        "    \n",
        "    # data로부터 풍속 값마다 비교를 하기 위한 반복문\n",
        "    for wind in data['풍속']:\n",
        "    \n",
        "        # threshold 값과 비교하여 분리합니다.\n",
        "        if wind > threshold:\n",
        "            yes.append(wind)\n",
        "        else:\n",
        "            no.append(wind)\n",
        "    \n",
        "    # 예측한 결과를 DataFrame 형태로 저장합니다.\n",
        "    data_yes = pd.DataFrame({'풍속': yes, '예상 지연 여부': ['Yes']*len(yes)})\n",
        "    data_no = pd.DataFrame({'풍속': no, '예상 지연 여부': ['No']*len(no)})\n",
        "    \n",
        "    return data_no.append(data_yes,ignore_index=True)\n",
        "\n",
        "# 풍속에 따른 항공 지연 여부 데이터\n",
        "Wind = [1, 1.5, 2.5, 5, 5.5, 6.5]\n",
        "Delay  = ['No', 'No', 'No', 'Yes', 'Yes', 'Yes']\n",
        "\n",
        "# 위 데이터를 DataFrame 형태로 저장합니다.\n",
        "data = pd.DataFrame({'풍속': Wind, '지연 여부': Delay})\n",
        "print(data,'\\n')\n",
        "\n",
        "data_pred = binary_tree(data, threshold = 4)\n",
        "print(data_pred,'\\n')"
      ],
      "metadata": {
        "id": "1nF3WHsjjHm5"
      },
      "execution_count": null,
      "outputs": []
    },
    {
      "cell_type": "code",
      "source": [
        "#confusion matrix\n",
        "#confusion_matrix(y_true, y_pred)"
      ],
      "metadata": {
        "id": "DVm3USt8jNHw"
      },
      "execution_count": null,
      "outputs": []
    },
    {
      "cell_type": "code",
      "source": [
        "#accuracy 계산\n",
        "#DTmodel.score(train_X, train_Y)"
      ],
      "metadata": {
        "id": "xrUpmMoNjXeV"
      },
      "execution_count": null,
      "outputs": []
    },
    {
      "cell_type": "code",
      "source": [
        "#precision_score(train_Y, y_pred_train)\n",
        "#recall_score(train_Y, y_pred_train)"
      ],
      "metadata": {
        "id": "8cmAmAoHjddp"
      },
      "execution_count": null,
      "outputs": []
    }
  ]
}