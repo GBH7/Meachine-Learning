{
  "nbformat": 4,
  "nbformat_minor": 0,
  "metadata": {
    "colab": {
      "provenance": [],
      "authorship_tag": "ABX9TyNYVNRclbokFANgs9zCiiow"
    },
    "kernelspec": {
      "name": "python3",
      "display_name": "Python 3"
    },
    "language_info": {
      "name": "python"
    }
  },
  "cells": [
    {
      "cell_type": "code",
      "execution_count": 1,
      "metadata": {
        "colab": {
          "base_uri": "https://localhost:8080/"
        },
        "id": "T9TpDwPcU8sp",
        "outputId": "4cd39ee0-71fc-41fd-cd48-fe7c9a650530"
      },
      "outputs": [
        {
          "output_type": "execute_result",
          "data": {
            "text/plain": [
              "array([0, 1, 2, 3, 4, 5, 6, 7, 8, 9])"
            ]
          },
          "metadata": {},
          "execution_count": 1
        }
      ],
      "source": [
        "#numpy로 배열 만들기\n",
        "import numpy as np\n",
        "array = np.array(range(10))\n",
        "array"
      ]
    },
    {
      "cell_type": "code",
      "source": [
        "import numpy as np\n",
        "\n",
        "array = np.array(range(10))\n",
        "print(array)\n",
        "\n",
        "# type(): array의 자료형을 출력\n",
        "print(type(array))\n",
        "# ndim: array의 차원을 출력\n",
        "print(array.ndim)\n",
        "# shape: array의 모양을 출력\n",
        "print(array.shape)\n",
        "# size: array의 크기를 출력\n",
        "print(array.size)\n",
        "# dtype: array의 dtype(data type)을 출력\n",
        "print(array.dtype)"
      ],
      "metadata": {
        "colab": {
          "base_uri": "https://localhost:8080/"
        },
        "id": "a-iH1rwDVM8T",
        "outputId": "17fcbe67-c8eb-4932-eb8c-d0516ff07bde"
      },
      "execution_count": 3,
      "outputs": [
        {
          "output_type": "stream",
          "name": "stdout",
          "text": [
            "[0 1 2 3 4 5 6 7 8 9]\n",
            "<class 'numpy.ndarray'>\n",
            "1\n",
            "(10,)\n",
            "10\n",
            "int64\n"
          ]
        }
      ]
    },
    {
      "cell_type": "code",
      "source": [
        "# 시리즈 데이터 만들기\n",
        "import numpy as np\n",
        "import pandas as pd\n",
        "\n",
        "series = pd.Series([1,2,3,4], index = ['a', 'b', 'c', 'd'], name=\"Title\")\n",
        "print(series, \"\\n\")"
      ],
      "metadata": {
        "colab": {
          "base_uri": "https://localhost:8080/"
        },
        "id": "yqXVRmGhWIzl",
        "outputId": "a9f0005a-3d83-4f2f-e9db-a60371840ade"
      },
      "execution_count": 4,
      "outputs": [
        {
          "output_type": "stream",
          "name": "stdout",
          "text": [
            "a    1\n",
            "b    2\n",
            "c    3\n",
            "d    4\n",
            "Name: Title, dtype: int64 \n",
            "\n"
          ]
        }
      ]
    },
    {
      "cell_type": "code",
      "source": [
        "import numpy as np\n",
        "import pandas as pd\n",
        "\n",
        "#시리즈 데이터\n",
        "print(\"Population series data:\")\n",
        "population_dict = {\n",
        "    'korea': 5180,\n",
        "    'japan': 12718,\n",
        "    'china': 141500,\n",
        "    'usa': 32676\n",
        "}\n",
        "population = pd.Series(population_dict)\n",
        "print(population, \"\\n\")\n",
        "\n",
        "#시리즈 데이터\n",
        "print(\"GDP series data:\")\n",
        "gdp_dict = {\n",
        "    'korea': 169320000,\n",
        "    'japan': 516700000,\n",
        "    'china': 1409250000,\n",
        "    'usa': 2041280000,\n",
        "}\n",
        "gdp = pd.Series(gdp_dict)\n",
        "print(gdp, \"\\n\")\n",
        "\n",
        "\n",
        "#2개의 시리즈 값이 들어간 데이터프레임을 생성\n",
        "print(\"Country DataFrame\")\n",
        "\n",
        "country = pd.DataFrame({\n",
        "    \"population\" : population,\n",
        "    \"gdp\" : gdp\n",
        "})\n",
        "print(country)"
      ],
      "metadata": {
        "colab": {
          "base_uri": "https://localhost:8080/"
        },
        "id": "7mqfqG8AWYWk",
        "outputId": "d3696f87-14a2-4a84-8946-4fc5769ba331"
      },
      "execution_count": 5,
      "outputs": [
        {
          "output_type": "stream",
          "name": "stdout",
          "text": [
            "Population series data:\n",
            "korea      5180\n",
            "japan     12718\n",
            "china    141500\n",
            "usa       32676\n",
            "dtype: int64 \n",
            "\n",
            "GDP series data:\n",
            "korea     169320000\n",
            "japan     516700000\n",
            "china    1409250000\n",
            "usa      2041280000\n",
            "dtype: int64 \n",
            "\n",
            "Country DataFrame\n",
            "       population         gdp\n",
            "korea        5180   169320000\n",
            "japan       12718   516700000\n",
            "china      141500  1409250000\n",
            "usa         32676  2041280000\n"
          ]
        }
      ]
    },
    {
      "cell_type": "code",
      "source": [
        "#마스킹과 쿼리\n",
        "import numpy as np\n",
        "import pandas as pd\n",
        "\n",
        "df = pd.DataFrame(np.random.rand(5, 2), columns=[\"A\", \"B\"])\n",
        "print(df, \"\\n\")\n",
        "\n",
        "#마스킹\n",
        "print(df[(df['A'] < 0.5 ) & (df['B'] > 0.3)])\n",
        "\n",
        "#query\n",
        "print(df.query(\"A<0.5 and B>0.3\"))"
      ],
      "metadata": {
        "colab": {
          "base_uri": "https://localhost:8080/"
        },
        "id": "W0yUXo7ZW4iy",
        "outputId": "eb72a0e0-1ec7-4ce9-9859-94cebd14ff6e"
      },
      "execution_count": 7,
      "outputs": [
        {
          "output_type": "stream",
          "name": "stdout",
          "text": [
            "          A         B\n",
            "0  0.270040  0.957054\n",
            "1  0.630642  0.995721\n",
            "2  0.079585  0.696263\n",
            "3  0.356246  0.201235\n",
            "4  0.957456  0.918835 \n",
            "\n",
            "          A         B\n",
            "0  0.270040  0.957054\n",
            "2  0.079585  0.696263\n",
            "          A         B\n",
            "0  0.270040  0.957054\n",
            "2  0.079585  0.696263\n"
          ]
        }
      ]
    },
    {
      "cell_type": "code",
      "source": [
        "#시각화\n",
        "import numpy as np\n",
        "import pandas as pd\n",
        "import matplotlib.pyplot as plt\n",
        "\n",
        "x = np.arange(10)\n",
        "fig, ax = plt.subplots()\n",
        "ax.plot(\n",
        "    x, x, label='y=x',\n",
        "    linestyle='-',\n",
        "    marker='.',\n",
        "    color='blue'\n",
        ")\n",
        "ax.plot(\n",
        "    x, x**2, label='y=x^2',\n",
        "    linestyle='-.',\n",
        "    marker=',',\n",
        "    color='red'\n",
        ")\n",
        "ax.set_xlabel(\"x\")\n",
        "ax.set_ylabel(\"y\")\n",
        "\n",
        "plt.show()"
      ],
      "metadata": {
        "colab": {
          "base_uri": "https://localhost:8080/",
          "height": 279
        },
        "id": "V3UXjHIRXZCH",
        "outputId": "228b0339-9b84-4469-827a-a313e0e30686"
      },
      "execution_count": 8,
      "outputs": [
        {
          "output_type": "display_data",
          "data": {
            "text/plain": [
              "<Figure size 432x288 with 1 Axes>"
            ],
            "image/png": "[encoded data removed]"
          },
          "metadata": {
            "needs_background": "light"
          }
        }
      ]
    },
    {
      "cell_type": "code",
      "source": [
        "import numpy as np\n",
        "import pandas as pd\n",
        "import matplotlib.pyplot as plt\n",
        "import matplotlib.font_manager as fm\n",
        "#fname='./NanumBarunGothic.ttf'\n",
        "#font = fm.FontProperties(fname = fname).get_name()\n",
        "#plt.rcParams[\"font.family\"] = font\n",
        "\n",
        "# Data set\n",
        "x = np.array([\"A\", \"B\", \"C\", \"D\", \"E\"])\n",
        "y = np.array([18, 7, 12, 10, 8]) \n",
        "z = np.random.randn(1000)\n",
        "\n",
        "fig, axes = plt.subplots(1, 2, figsize=(8, 4))\n",
        "\n",
        "# Bar 그래프\n",
        "axes[0].bar(x, y)\n",
        "# 히스토그램\n",
        "axes[1].hist(z, bins = 50)\n",
        "\n",
        "plt.show()"
      ],
      "metadata": {
        "colab": {
          "base_uri": "https://localhost:8080/",
          "height": 268
        },
        "id": "WvnXAuWiYV-A",
        "outputId": "31acd854-5048-47ed-9c19-4700aa108a5f"
      },
      "execution_count": 11,
      "outputs": [
        {
          "output_type": "display_data",
          "data": {
            "text/plain": [
              "<Figure size 576x288 with 2 Axes>"
            ],
            "image/png": "[encoded data removed]"
          },
          "metadata": {
            "needs_background": "light"
          }
        }
      ]
    },
    {
      "cell_type": "code",
      "source": [
        "#Line plot\n",
        "fig, ax = plt.subplots()\n",
        "x = np.arange(15)\n",
        "y = x ** 2\n",
        "ax.plot(\n",
        "    x, y,\n",
        "    linestyle=\":\",\n",
        "    marker=\"*\",\n",
        "    color=\"#524FA1\" \n",
        "    )"
      ],
      "metadata": {
        "colab": {
          "base_uri": "https://localhost:8080/",
          "height": 283
        },
        "id": "4hTRv9jvZL0y",
        "outputId": "f8ac3419-a4d6-4e8e-9c9a-17176dc3110d"
      },
      "execution_count": 12,
      "outputs": [
        {
          "output_type": "execute_result",
          "data": {
            "text/plain": [
              "[<matplotlib.lines.Line2D at 0x7f68c2874750>]"
            ]
          },
          "metadata": {},
          "execution_count": 12
        },
        {
          "output_type": "display_data",
          "data": {
            "text/plain": [
              "<Figure size 432x288 with 1 Axes>"
            ],
            "image/png": "[encoded data removed]"
          },
          "metadata": {
            "needs_background": "light"
          }
        }
      ]
    },
    {
      "cell_type": "code",
      "source": [
        "# bar\n",
        "x = np.arange(10)\n",
        "fig, ax = plt.subplots(figsize=(12, 4))\n",
        "ax.bar(x, x*2)"
      ],
      "metadata": {
        "colab": {
          "base_uri": "https://localhost:8080/",
          "height": 283
        },
        "id": "7SRnmCWlZdDR",
        "outputId": "e6a13238-7743-405a-9ee7-c2e94cb6f7cf"
      },
      "execution_count": 13,
      "outputs": [
        {
          "output_type": "execute_result",
          "data": {
            "text/plain": [
              "<BarContainer object of 10 artists>"
            ]
          },
          "metadata": {},
          "execution_count": 13
        },
        {
          "output_type": "display_data",
          "data": {
            "text/plain": [
              "<Figure size 864x288 with 1 Axes>"
            ],
            "image/png": "[encoded data removed]"
          },
          "metadata": {
            "needs_background": "light"
          }
        }
      ]
    },
    {
      "cell_type": "code",
      "source": [
        "x = np.random.rand(3)\n",
        "y = np.random.rand(3)\n",
        "z = np.random.rand(3)\n",
        "data = [x, y, z]\n",
        "fig, ax = plt.subplots()\n",
        "x_ax= np.arange(3)\n",
        "for i in x_ax: \n",
        "  ax.bar(x_ax, data[i],bottom=np.sum(data[:i], axis=0))"
      ],
      "metadata": {
        "colab": {
          "base_uri": "https://localhost:8080/",
          "height": 265
        },
        "id": "_xkjnc5bZ6fH",
        "outputId": "378eb594-3d6a-45ba-d75f-bda9f996de5a"
      },
      "execution_count": 14,
      "outputs": [
        {
          "output_type": "display_data",
          "data": {
            "text/plain": [
              "<Figure size 432x288 with 1 Axes>"
            ],
            "image/png": "[encoded data removed]"
          },
          "metadata": {
            "needs_background": "light"
          }
        }
      ]
    },
    {
      "cell_type": "code",
      "source": [
        "#histogram\n",
        "fig, ax = plt.subplots()\n",
        "data = np.random.randn(1000)\n",
        "ax.hist(data, bins=50)\n",
        "plt.show()"
      ],
      "metadata": {
        "colab": {
          "base_uri": "https://localhost:8080/",
          "height": 265
        },
        "id": "WfskpaSvaYUs",
        "outputId": "e8fb1d43-42da-40bf-fa92-0c89bba857e3"
      },
      "execution_count": 16,
      "outputs": [
        {
          "output_type": "display_data",
          "data": {
            "text/plain": [
              "<Figure size 432x288 with 1 Axes>"
            ],
            "image/png": "[encoded data removed]"
          },
          "metadata": {
            "needs_background": "light"
          }
        }
      ]
    }
  ]
}