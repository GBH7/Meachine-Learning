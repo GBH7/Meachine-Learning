{
  "nbformat": 4,
  "nbformat_minor": 0,
  "metadata": {
    "colab": {
      "provenance": [],
      "collapsed_sections": [],
      "include_colab_link": true
    },
    "kernelspec": {
      "name": "python3",
      "display_name": "Python 3"
    },
    "language_info": {
      "name": "python"
    },
    "accelerator": "GPU",
    "widgets": {
      "application/vnd.jupyter.widget-state+json": {
        "c2229c4566ce4dd2a744fe8841b2027c": {
          "model_module": "@jupyter-widgets/controls",
          "model_name": "HBoxModel",
          "model_module_version": "1.5.0",
          "state": {
            "_dom_classes": [],
            "_model_module": "@jupyter-widgets/controls",
            "_model_module_version": "1.5.0",
            "_model_name": "HBoxModel",
            "_view_count": null,
            "_view_module": "@jupyter-widgets/controls",
            "_view_module_version": "1.5.0",
            "_view_name": "HBoxView",
            "box_style": "",
            "children": [
              "IPY_MODEL_1179cd1891914d1e8ceed7d7825aa116",
              "IPY_MODEL_402104688f5a4309a6259f9d8ac7ed77",
              "IPY_MODEL_46fc53ae71f84cd8bd84deadf57d1489"
            ],
            "layout": "IPY_MODEL_ef723b0c75934e969e81597998d18d86"
          }
        },
        "1179cd1891914d1e8ceed7d7825aa116": {
          "model_module": "@jupyter-widgets/controls",
          "model_name": "HTMLModel",
          "model_module_version": "1.5.0",
          "state": {
            "_dom_classes": [],
            "_model_module": "@jupyter-widgets/controls",
            "_model_module_version": "1.5.0",
            "_model_name": "HTMLModel",
            "_view_count": null,
            "_view_module": "@jupyter-widgets/controls",
            "_view_module_version": "1.5.0",
            "_view_name": "HTMLView",
            "description": "",
            "description_tooltip": null,
            "layout": "IPY_MODEL_e1dce4a1791c4057b7976e73cac27ce2",
            "placeholder": "​",
            "style": "IPY_MODEL_01d50b79163e442fb33f521d60e6ff59",
            "value": ""
          }
        },
        "402104688f5a4309a6259f9d8ac7ed77": {
          "model_module": "@jupyter-widgets/controls",
          "model_name": "FloatProgressModel",
          "model_module_version": "1.5.0",
          "state": {
            "_dom_classes": [],
            "_model_module": "@jupyter-widgets/controls",
            "_model_module_version": "1.5.0",
            "_model_name": "FloatProgressModel",
            "_view_count": null,
            "_view_module": "@jupyter-widgets/controls",
            "_view_module_version": "1.5.0",
            "_view_name": "ProgressView",
            "bar_style": "success",
            "description": "",
            "description_tooltip": null,
            "layout": "IPY_MODEL_b762f449724c46b48c26366690c73c43",
            "max": 170498071,
            "min": 0,
            "orientation": "horizontal",
            "style": "IPY_MODEL_a16dbf9377b2427db87471b1767ce9c8",
            "value": 170498071
          }
        },
        "46fc53ae71f84cd8bd84deadf57d1489": {
          "model_module": "@jupyter-widgets/controls",
          "model_name": "HTMLModel",
          "model_module_version": "1.5.0",
          "state": {
            "_dom_classes": [],
            "_model_module": "@jupyter-widgets/controls",
            "_model_module_version": "1.5.0",
            "_model_name": "HTMLModel",
            "_view_count": null,
            "_view_module": "@jupyter-widgets/controls",
            "_view_module_version": "1.5.0",
            "_view_name": "HTMLView",
            "description": "",
            "description_tooltip": null,
            "layout": "IPY_MODEL_6a2042496ea041d6937e2fefaa879a9d",
            "placeholder": "​",
            "style": "IPY_MODEL_6ad71131bd14401e8e79d60fcbb111cc",
            "value": " 170499072/? [00:13&lt;00:00, 14788405.52it/s]"
          }
        },
        "ef723b0c75934e969e81597998d18d86": {
          "model_module": "@jupyter-widgets/base",
          "model_name": "LayoutModel",
          "model_module_version": "1.2.0",
          "state": {
            "_model_module": "@jupyter-widgets/base",
            "_model_module_version": "1.2.0",
            "_model_name": "LayoutModel",
            "_view_count": null,
            "_view_module": "@jupyter-widgets/base",
            "_view_module_version": "1.2.0",
            "_view_name": "LayoutView",
            "align_content": null,
            "align_items": null,
            "align_self": null,
            "border": null,
            "bottom": null,
            "display": null,
            "flex": null,
            "flex_flow": null,
            "grid_area": null,
            "grid_auto_columns": null,
            "grid_auto_flow": null,
            "grid_auto_rows": null,
            "grid_column": null,
            "grid_gap": null,
            "grid_row": null,
            "grid_template_areas": null,
            "grid_template_columns": null,
            "grid_template_rows": null,
            "height": null,
            "justify_content": null,
            "justify_items": null,
            "left": null,
            "margin": null,
            "max_height": null,
            "max_width": null,
            "min_height": null,
            "min_width": null,
            "object_fit": null,
            "object_position": null,
            "order": null,
            "overflow": null,
            "overflow_x": null,
            "overflow_y": null,
            "padding": null,
            "right": null,
            "top": null,
            "visibility": null,
            "width": null
          }
        },
        "e1dce4a1791c4057b7976e73cac27ce2": {
          "model_module": "@jupyter-widgets/base",
          "model_name": "LayoutModel",
          "model_module_version": "1.2.0",
          "state": {
            "_model_module": "@jupyter-widgets/base",
            "_model_module_version": "1.2.0",
            "_model_name": "LayoutModel",
            "_view_count": null,
            "_view_module": "@jupyter-widgets/base",
            "_view_module_version": "1.2.0",
            "_view_name": "LayoutView",
            "align_content": null,
            "align_items": null,
            "align_self": null,
            "border": null,
            "bottom": null,
            "display": null,
            "flex": null,
            "flex_flow": null,
            "grid_area": null,
            "grid_auto_columns": null,
            "grid_auto_flow": null,
            "grid_auto_rows": null,
            "grid_column": null,
            "grid_gap": null,
            "grid_row": null,
            "grid_template_areas": null,
            "grid_template_columns": null,
            "grid_template_rows": null,
            "height": null,
            "justify_content": null,
            "justify_items": null,
            "left": null,
            "margin": null,
            "max_height": null,
            "max_width": null,
            "min_height": null,
            "min_width": null,
            "object_fit": null,
            "object_position": null,
            "order": null,
            "overflow": null,
            "overflow_x": null,
            "overflow_y": null,
            "padding": null,
            "right": null,
            "top": null,
            "visibility": null,
            "width": null
          }
        },
        "01d50b79163e442fb33f521d60e6ff59": {
          "model_module": "@jupyter-widgets/controls",
          "model_name": "DescriptionStyleModel",
          "model_module_version": "1.5.0",
          "state": {
            "_model_module": "@jupyter-widgets/controls",
            "_model_module_version": "1.5.0",
            "_model_name": "DescriptionStyleModel",
            "_view_count": null,
            "_view_module": "@jupyter-widgets/base",
            "_view_module_version": "1.2.0",
            "_view_name": "StyleView",
            "description_width": ""
          }
        },
        "b762f449724c46b48c26366690c73c43": {
          "model_module": "@jupyter-widgets/base",
          "model_name": "LayoutModel",
          "model_module_version": "1.2.0",
          "state": {
            "_model_module": "@jupyter-widgets/base",
            "_model_module_version": "1.2.0",
            "_model_name": "LayoutModel",
            "_view_count": null,
            "_view_module": "@jupyter-widgets/base",
            "_view_module_version": "1.2.0",
            "_view_name": "LayoutView",
            "align_content": null,
            "align_items": null,
            "align_self": null,
            "border": null,
            "bottom": null,
            "display": null,
            "flex": null,
            "flex_flow": null,
            "grid_area": null,
            "grid_auto_columns": null,
            "grid_auto_flow": null,
            "grid_auto_rows": null,
            "grid_column": null,
            "grid_gap": null,
            "grid_row": null,
            "grid_template_areas": null,
            "grid_template_columns": null,
            "grid_template_rows": null,
            "height": null,
            "justify_content": null,
            "justify_items": null,
            "left": null,
            "margin": null,
            "max_height": null,
            "max_width": null,
            "min_height": null,
            "min_width": null,
            "object_fit": null,
            "object_position": null,
            "order": null,
            "overflow": null,
            "overflow_x": null,
            "overflow_y": null,
            "padding": null,
            "right": null,
            "top": null,
            "visibility": null,
            "width": null
          }
        },
        "a16dbf9377b2427db87471b1767ce9c8": {
          "model_module": "@jupyter-widgets/controls",
          "model_name": "ProgressStyleModel",
          "model_module_version": "1.5.0",
          "state": {
            "_model_module": "@jupyter-widgets/controls",
            "_model_module_version": "1.5.0",
            "_model_name": "ProgressStyleModel",
            "_view_count": null,
            "_view_module": "@jupyter-widgets/base",
            "_view_module_version": "1.2.0",
            "_view_name": "StyleView",
            "bar_color": null,
            "description_width": ""
          }
        },
        "6a2042496ea041d6937e2fefaa879a9d": {
          "model_module": "@jupyter-widgets/base",
          "model_name": "LayoutModel",
          "model_module_version": "1.2.0",
          "state": {
            "_model_module": "@jupyter-widgets/base",
            "_model_module_version": "1.2.0",
            "_model_name": "LayoutModel",
            "_view_count": null,
            "_view_module": "@jupyter-widgets/base",
            "_view_module_version": "1.2.0",
            "_view_name": "LayoutView",
            "align_content": null,
            "align_items": null,
            "align_self": null,
            "border": null,
            "bottom": null,
            "display": null,
            "flex": null,
            "flex_flow": null,
            "grid_area": null,
            "grid_auto_columns": null,
            "grid_auto_flow": null,
            "grid_auto_rows": null,
            "grid_column": null,
            "grid_gap": null,
            "grid_row": null,
            "grid_template_areas": null,
            "grid_template_columns": null,
            "grid_template_rows": null,
            "height": null,
            "justify_content": null,
            "justify_items": null,
            "left": null,
            "margin": null,
            "max_height": null,
            "max_width": null,
            "min_height": null,
            "min_width": null,
            "object_fit": null,
            "object_position": null,
            "order": null,
            "overflow": null,
            "overflow_x": null,
            "overflow_y": null,
            "padding": null,
            "right": null,
            "top": null,
            "visibility": null,
            "width": null
          }
        },
        "6ad71131bd14401e8e79d60fcbb111cc": {
          "model_module": "@jupyter-widgets/controls",
          "model_name": "DescriptionStyleModel",
          "model_module_version": "1.5.0",
          "state": {
            "_model_module": "@jupyter-widgets/controls",
            "_model_module_version": "1.5.0",
            "_model_name": "DescriptionStyleModel",
            "_view_count": null,
            "_view_module": "@jupyter-widgets/base",
            "_view_module_version": "1.2.0",
            "_view_name": "StyleView",
            "description_width": ""
          }
        },
        "dff895886c30415585db9cd370ebaf3b": {
          "model_module": "@jupyter-widgets/controls",
          "model_name": "HBoxModel",
          "model_module_version": "1.5.0",
          "state": {
            "_dom_classes": [],
            "_model_module": "@jupyter-widgets/controls",
            "_model_module_version": "1.5.0",
            "_model_name": "HBoxModel",
            "_view_count": null,
            "_view_module": "@jupyter-widgets/controls",
            "_view_module_version": "1.5.0",
            "_view_name": "HBoxView",
            "box_style": "",
            "children": [
              "IPY_MODEL_0105a2774f6d43119f1b1f39ef83bd0d",
              "IPY_MODEL_a31e7127197049bb9e336b242a9094bd",
              "IPY_MODEL_10cc0c7f1e644bdcb3e22941bd359b2b"
            ],
            "layout": "IPY_MODEL_bc679f3d089545569a3a6860b8a80571"
          }
        },
        "0105a2774f6d43119f1b1f39ef83bd0d": {
          "model_module": "@jupyter-widgets/controls",
          "model_name": "HTMLModel",
          "model_module_version": "1.5.0",
          "state": {
            "_dom_classes": [],
            "_model_module": "@jupyter-widgets/controls",
            "_model_module_version": "1.5.0",
            "_model_name": "HTMLModel",
            "_view_count": null,
            "_view_module": "@jupyter-widgets/controls",
            "_view_module_version": "1.5.0",
            "_view_name": "HTMLView",
            "description": "",
            "description_tooltip": null,
            "layout": "IPY_MODEL_097a0c28096141d08b15cffd188b386b",
            "placeholder": "​",
            "style": "IPY_MODEL_d77790d9a6e943de95758e8ff9c2922a",
            "value": ""
          }
        },
        "a31e7127197049bb9e336b242a9094bd": {
          "model_module": "@jupyter-widgets/controls",
          "model_name": "FloatProgressModel",
          "model_module_version": "1.5.0",
          "state": {
            "_dom_classes": [],
            "_model_module": "@jupyter-widgets/controls",
            "_model_module_version": "1.5.0",
            "_model_name": "FloatProgressModel",
            "_view_count": null,
            "_view_module": "@jupyter-widgets/controls",
            "_view_module_version": "1.5.0",
            "_view_name": "ProgressView",
            "bar_style": "success",
            "description": "",
            "description_tooltip": null,
            "layout": "IPY_MODEL_84549b187ffb49968ea9287526b450d1",
            "max": 2640397119,
            "min": 0,
            "orientation": "horizontal",
            "style": "IPY_MODEL_6aecea7d1a924ea787a5f7b4976339ba",
            "value": 2640397119
          }
        },
        "10cc0c7f1e644bdcb3e22941bd359b2b": {
          "model_module": "@jupyter-widgets/controls",
          "model_name": "HTMLModel",
          "model_module_version": "1.5.0",
          "state": {
            "_dom_classes": [],
            "_model_module": "@jupyter-widgets/controls",
            "_model_module_version": "1.5.0",
            "_model_name": "HTMLModel",
            "_view_count": null,
            "_view_module": "@jupyter-widgets/controls",
            "_view_module_version": "1.5.0",
            "_view_name": "HTMLView",
            "description": "",
            "description_tooltip": null,
            "layout": "IPY_MODEL_b1a3c834b1fa4e4a925d83c5713a49c4",
            "placeholder": "​",
            "style": "IPY_MODEL_9dc52f24009e464db7056ed5f9baac25",
            "value": " 2640397312/? [01:08&lt;00:00, 39315334.34it/s]"
          }
        },
        "bc679f3d089545569a3a6860b8a80571": {
          "model_module": "@jupyter-widgets/base",
          "model_name": "LayoutModel",
          "model_module_version": "1.2.0",
          "state": {
            "_model_module": "@jupyter-widgets/base",
            "_model_module_version": "1.2.0",
            "_model_name": "LayoutModel",
            "_view_count": null,
            "_view_module": "@jupyter-widgets/base",
            "_view_module_version": "1.2.0",
            "_view_name": "LayoutView",
            "align_content": null,
            "align_items": null,
            "align_self": null,
            "border": null,
            "bottom": null,
            "display": null,
            "flex": null,
            "flex_flow": null,
            "grid_area": null,
            "grid_auto_columns": null,
            "grid_auto_flow": null,
            "grid_auto_rows": null,
            "grid_column": null,
            "grid_gap": null,
            "grid_row": null,
            "grid_template_areas": null,
            "grid_template_columns": null,
            "grid_template_rows": null,
            "height": null,
            "justify_content": null,
            "justify_items": null,
            "left": null,
            "margin": null,
            "max_height": null,
            "max_width": null,
            "min_height": null,
            "min_width": null,
            "object_fit": null,
            "object_position": null,
            "order": null,
            "overflow": null,
            "overflow_x": null,
            "overflow_y": null,
            "padding": null,
            "right": null,
            "top": null,
            "visibility": null,
            "width": null
          }
        },
        "097a0c28096141d08b15cffd188b386b": {
          "model_module": "@jupyter-widgets/base",
          "model_name": "LayoutModel",
          "model_module_version": "1.2.0",
          "state": {
            "_model_module": "@jupyter-widgets/base",
            "_model_module_version": "1.2.0",
            "_model_name": "LayoutModel",
            "_view_count": null,
            "_view_module": "@jupyter-widgets/base",
            "_view_module_version": "1.2.0",
            "_view_name": "LayoutView",
            "align_content": null,
            "align_items": null,
            "align_self": null,
            "border": null,
            "bottom": null,
            "display": null,
            "flex": null,
            "flex_flow": null,
            "grid_area": null,
            "grid_auto_columns": null,
            "grid_auto_flow": null,
            "grid_auto_rows": null,
            "grid_column": null,
            "grid_gap": null,
            "grid_row": null,
            "grid_template_areas": null,
            "grid_template_columns": null,
            "grid_template_rows": null,
            "height": null,
            "justify_content": null,
            "justify_items": null,
            "left": null,
            "margin": null,
            "max_height": null,
            "max_width": null,
            "min_height": null,
            "min_width": null,
            "object_fit": null,
            "object_position": null,
            "order": null,
            "overflow": null,
            "overflow_x": null,
            "overflow_y": null,
            "padding": null,
            "right": null,
            "top": null,
            "visibility": null,
            "width": null
          }
        },
        "d77790d9a6e943de95758e8ff9c2922a": {
          "model_module": "@jupyter-widgets/controls",
          "model_name": "DescriptionStyleModel",
          "model_module_version": "1.5.0",
          "state": {
            "_model_module": "@jupyter-widgets/controls",
            "_model_module_version": "1.5.0",
            "_model_name": "DescriptionStyleModel",
            "_view_count": null,
            "_view_module": "@jupyter-widgets/base",
            "_view_module_version": "1.2.0",
            "_view_name": "StyleView",
            "description_width": ""
          }
        },
        "84549b187ffb49968ea9287526b450d1": {
          "model_module": "@jupyter-widgets/base",
          "model_name": "LayoutModel",
          "model_module_version": "1.2.0",
          "state": {
            "_model_module": "@jupyter-widgets/base",
            "_model_module_version": "1.2.0",
            "_model_name": "LayoutModel",
            "_view_count": null,
            "_view_module": "@jupyter-widgets/base",
            "_view_module_version": "1.2.0",
            "_view_name": "LayoutView",
            "align_content": null,
            "align_items": null,
            "align_self": null,
            "border": null,
            "bottom": null,
            "display": null,
            "flex": null,
            "flex_flow": null,
            "grid_area": null,
            "grid_auto_columns": null,
            "grid_auto_flow": null,
            "grid_auto_rows": null,
            "grid_column": null,
            "grid_gap": null,
            "grid_row": null,
            "grid_template_areas": null,
            "grid_template_columns": null,
            "grid_template_rows": null,
            "height": null,
            "justify_content": null,
            "justify_items": null,
            "left": null,
            "margin": null,
            "max_height": null,
            "max_width": null,
            "min_height": null,
            "min_width": null,
            "object_fit": null,
            "object_position": null,
            "order": null,
            "overflow": null,
            "overflow_x": null,
            "overflow_y": null,
            "padding": null,
            "right": null,
            "top": null,
            "visibility": null,
            "width": null
          }
        },
        "6aecea7d1a924ea787a5f7b4976339ba": {
          "model_module": "@jupyter-widgets/controls",
          "model_name": "ProgressStyleModel",
          "model_module_version": "1.5.0",
          "state": {
            "_model_module": "@jupyter-widgets/controls",
            "_model_module_version": "1.5.0",
            "_model_name": "ProgressStyleModel",
            "_view_count": null,
            "_view_module": "@jupyter-widgets/base",
            "_view_module_version": "1.2.0",
            "_view_name": "StyleView",
            "bar_color": null,
            "description_width": ""
          }
        },
        "b1a3c834b1fa4e4a925d83c5713a49c4": {
          "model_module": "@jupyter-widgets/base",
          "model_name": "LayoutModel",
          "model_module_version": "1.2.0",
          "state": {
            "_model_module": "@jupyter-widgets/base",
            "_model_module_version": "1.2.0",
            "_model_name": "LayoutModel",
            "_view_count": null,
            "_view_module": "@jupyter-widgets/base",
            "_view_module_version": "1.2.0",
            "_view_name": "LayoutView",
            "align_content": null,
            "align_items": null,
            "align_self": null,
            "border": null,
            "bottom": null,
            "display": null,
            "flex": null,
            "flex_flow": null,
            "grid_area": null,
            "grid_auto_columns": null,
            "grid_auto_flow": null,
            "grid_auto_rows": null,
            "grid_column": null,
            "grid_gap": null,
            "grid_row": null,
            "grid_template_areas": null,
            "grid_template_columns": null,
            "grid_template_rows": null,
            "height": null,
            "justify_content": null,
            "justify_items": null,
            "left": null,
            "margin": null,
            "max_height": null,
            "max_width": null,
            "min_height": null,
            "min_width": null,
            "object_fit": null,
            "object_position": null,
            "order": null,
            "overflow": null,
            "overflow_x": null,
            "overflow_y": null,
            "padding": null,
            "right": null,
            "top": null,
            "visibility": null,
            "width": null
          }
        },
        "9dc52f24009e464db7056ed5f9baac25": {
          "model_module": "@jupyter-widgets/controls",
          "model_name": "DescriptionStyleModel",
          "model_module_version": "1.5.0",
          "state": {
            "_model_module": "@jupyter-widgets/controls",
            "_model_module_version": "1.5.0",
            "_model_name": "DescriptionStyleModel",
            "_view_count": null,
            "_view_module": "@jupyter-widgets/base",
            "_view_module_version": "1.2.0",
            "_view_name": "StyleView",
            "description_width": ""
          }
        }
      }
    }
  },
  "cells": [
    {
      "cell_type": "markdown",
      "metadata": {
        "id": "view-in-github",
        "colab_type": "text"
      },
      "source": [
        "<a href=\"https://colab.research.google.com/github/GBH7/Meachine-Learning/blob/main/DeepLearning_Project.ipynb\" target=\"_parent\"><img src=\"https://colab.research.google.com/assets/colab-badge.svg\" alt=\"Open In Colab\"/></a>"
      ]
    },
    {
      "cell_type": "code",
      "execution_count": null,
      "metadata": {
        "id": "rSj-rdVsrHce"
      },
      "outputs": [],
      "source": [
        "#1번.\n",
        "\n",
        "#import modules\n",
        "import torch\n",
        "import torch.nn as nn\n",
        "import torch.optim as optim\n",
        "import torch.nn.init as init\n",
        "\n",
        "import torchvision.datasets as dset\n",
        "import torchvision.transforms as transforms\n",
        "from torch.utils.data import DataLoader\n",
        "\n",
        "import numpy as np\n",
        "import matplotlib.pyplot as plt"
      ]
    },
    {
      "cell_type": "code",
      "source": [
        "#Data Preparation\n",
        "transf = transforms.Compose([transforms.ToTensor()])\n",
        "\n",
        "trainset = dset.CIFAR10(root='./data',train=True,download=True,transform=transf)\n",
        "testset = dset.CIFAR10(root='./data',train=False,download=True,transform=transf)\n",
        "\n",
        "batch_size = 32\n",
        "learning_rate = 0.0001\n",
        "num_epoch = 50\n",
        "\n",
        "#합성곱 연산 2번 하는 함수\n",
        "def conv_2_block(in_dim,out_dim):\n",
        "  model = nn.Sequential(\n",
        "      nn.Conv2d(in_dim,out_dim,kernel_size=3,padding=1),\n",
        "      nn.ReLU(),\n",
        "      nn.Conv2d(out_dim,out_dim,kernel_size=3,padding=1),\n",
        "      nn.ReLU(),\n",
        "      nn.MaxPool2d(2,2)\n",
        "  )\n",
        "  return model\n",
        "\n",
        "def conv_3_block(in_dim,out_dim):\n",
        "  model = nn.Sequential(\n",
        "      nn.Conv2d(in_dim,out_dim,kernel_size=3,padding=1),\n",
        "      nn.ReLU(),\n",
        "      nn.Conv2d(out_dim,out_dim,kernel_size=3,padding=1),\n",
        "      nn.ReLU(),\n",
        "      nn.Conv2d(out_dim,out_dim,kernel_size=3,padding=1),\n",
        "      nn.ReLU(),\n",
        "      nn.MaxPool2d(2,2)\n",
        "  )\n",
        "  return model\n",
        "\n",
        "def conv_4_block(in_dim,out_dim):\n",
        "  model = nn.Sequential(\n",
        "      nn.Conv2d(in_dim,out_dim,kernel_size=3,padding=1),\n",
        "      nn.ReLU(),\n",
        "      nn.Conv2d(out_dim,out_dim,kernel_size=3,padding=1),\n",
        "      nn.ReLU(),\n",
        "      nn.Conv2d(out_dim,out_dim,kernel_size=3,padding=1),\n",
        "      nn.ReLU(),\n",
        "      nn.Conv2d(out_dim,out_dim,kernel_size=3,padding=1),\n",
        "      nn.ReLU(),\n",
        "      nn.MaxPool2d(2,2)\n",
        "  )\n",
        "  return model"
      ],
      "metadata": {
        "colab": {
          "base_uri": "https://localhost:8080/",
          "height": 103,
          "referenced_widgets": [
            "c2229c4566ce4dd2a744fe8841b2027c",
            "1179cd1891914d1e8ceed7d7825aa116",
            "402104688f5a4309a6259f9d8ac7ed77",
            "46fc53ae71f84cd8bd84deadf57d1489",
            "ef723b0c75934e969e81597998d18d86",
            "e1dce4a1791c4057b7976e73cac27ce2",
            "01d50b79163e442fb33f521d60e6ff59",
            "b762f449724c46b48c26366690c73c43",
            "a16dbf9377b2427db87471b1767ce9c8",
            "6a2042496ea041d6937e2fefaa879a9d",
            "6ad71131bd14401e8e79d60fcbb111cc"
          ]
        },
        "id": "Bsa2Y0lCviS3",
        "outputId": "6deef97d-a97c-469e-bc18-c18dfe939314"
      },
      "execution_count": null,
      "outputs": [
        {
          "output_type": "stream",
          "name": "stdout",
          "text": [
            "Downloading https://www.cs.toronto.edu/~kriz/cifar-10-python.tar.gz to ./data/cifar-10-python.tar.gz\n"
          ]
        },
        {
          "output_type": "display_data",
          "data": {
            "text/plain": [
              "  0%|          | 0/170498071 [00:00<?, ?it/s]"
            ],
            "application/vnd.jupyter.widget-view+json": {
              "version_major": 2,
              "version_minor": 0,
              "model_id": "c2229c4566ce4dd2a744fe8841b2027c"
            }
          },
          "metadata": {}
        },
        {
          "output_type": "stream",
          "name": "stdout",
          "text": [
            "Extracting ./data/cifar-10-python.tar.gz to ./data\n",
            "Files already downloaded and verified\n"
          ]
        }
      ]
    },
    {
      "cell_type": "code",
      "source": [
        "#Model_1 architecture\n",
        "\n",
        "class VGG16(nn.Module):\n",
        "  def __init__(self):\n",
        "    super(VGG16,self).__init__()\n",
        "    self.feature = nn.Sequential(\n",
        "        conv_2_block(3,64),\n",
        "        conv_2_block(64,128),\n",
        "        conv_3_block(128,256),\n",
        "        conv_3_block(256,512),\n",
        "        conv_3_block(512,512),\n",
        "    )\n",
        "    self.fc_layer = nn.Sequential(\n",
        "        nn.Linear(512,100),\n",
        "        nn.ReLU(True),\n",
        "        nn.Linear(100,20),\n",
        "        nn.ReLU(True),\n",
        "        nn.Linear(20,10)\n",
        "    )\n",
        "\n",
        "  def forward(self,x):\n",
        "    x = self.feature(x)\n",
        "    x = x.view(x.size(0),-1)\n",
        "    x = self.fc_layer(x)\n",
        "    return x"
      ],
      "metadata": {
        "id": "Jfbg9UDYr3pr"
      },
      "execution_count": null,
      "outputs": []
    },
    {
      "cell_type": "code",
      "source": [
        "device = torch.device(\"cuda:0\" if torch.cuda.is_available() else \"cpu\")\n",
        "\n",
        "model = VGG16().to(device)\n",
        "\n",
        "loss_func = nn.CrossEntropyLoss()\n",
        "optimizer = torch.optim.Adam(model.parameters(),lr = learning_rate)"
      ],
      "metadata": {
        "id": "mCjUH9fhs2Ps"
      },
      "execution_count": null,
      "outputs": []
    },
    {
      "cell_type": "code",
      "source": [
        "trainloader = DataLoader(trainset, batch_size=32)\n",
        "testloader = DataLoader(testset,batch_size=32)"
      ],
      "metadata": {
        "id": "ZTdS9mbIv6H7"
      },
      "execution_count": null,
      "outputs": []
    },
    {
      "cell_type": "code",
      "source": [
        "for i in range(num_epoch):\n",
        "  for j,[image,label] in enumerate(trainloader):\n",
        "    x = image.to(device)\n",
        "    y_ = label.to(device)\n",
        "\n",
        "    optimizer.zero_grad()\n",
        "    output = model.forward(x)\n",
        "    loss = loss_func(output,y_)\n",
        "    loss.backward()\n",
        "    optimizer.step()\n",
        "  \n",
        "  if i % 10 == 0:\n",
        "    print(loss)"
      ],
      "metadata": {
        "colab": {
          "base_uri": "https://localhost:8080/"
        },
        "id": "QPWtyKDtwEdd",
        "outputId": "3479c158-50d1-48f5-e8d2-639dd4452581"
      },
      "execution_count": null,
      "outputs": [
        {
          "output_type": "stream",
          "name": "stdout",
          "text": [
            "tensor(2.3572, device='cuda:0', grad_fn=<NllLossBackward0>)\n",
            "tensor(0.1395, device='cuda:0', grad_fn=<NllLossBackward0>)\n",
            "tensor(0.0123, device='cuda:0', grad_fn=<NllLossBackward0>)\n",
            "tensor(0.0132, device='cuda:0', grad_fn=<NllLossBackward0>)\n",
            "tensor(0.0169, device='cuda:0', grad_fn=<NllLossBackward0>)\n"
          ]
        }
      ]
    },
    {
      "cell_type": "code",
      "source": [
        "#Model_1 Evaluation\n",
        "correct = 0\n",
        "total = 0\n",
        "with torch.no_grad():\n",
        "  model.eval()\n",
        "  for data in testloader:\n",
        "    images, labels = data[0].to(device), data[1].to(device)\n",
        "    outputs = model(images)\n",
        "    _, predicted = torch.max(outputs,1)\n",
        "    total += labels.size(0)\n",
        "    correct += (predicted == labels).sum().item()\n",
        "\n",
        "  print('Test accuracy: %.2f %%'%(100*correct/total))"
      ],
      "metadata": {
        "colab": {
          "base_uri": "https://localhost:8080/"
        },
        "id": "oW1GP6Brymch",
        "outputId": "891d6f4d-a462-450b-f30a-77d9f55f4bf5"
      },
      "execution_count": null,
      "outputs": [
        {
          "output_type": "stream",
          "name": "stdout",
          "text": [
            "Test accuracy: 77.54 %\n"
          ]
        }
      ]
    },
    {
      "cell_type": "code",
      "source": [
        "#Model_2 architecture\n",
        "\n",
        "class VGG19(nn.Module):\n",
        "  def __init__(self):\n",
        "    super(VGG19,self).__init__()\n",
        "    self.feature = nn.Sequential(\n",
        "        conv_2_block(3,64),\n",
        "        conv_2_block(64,128),\n",
        "        conv_4_block(128,256),\n",
        "        conv_4_block(256,512),\n",
        "        conv_4_block(512,512),\n",
        "    )\n",
        "    self.fc_layer = nn.Sequential(\n",
        "        nn.Linear(512,100),\n",
        "        nn.ReLU(True),\n",
        "        nn.Linear(100,20),\n",
        "        nn.ReLU(True),\n",
        "        nn.Linear(20,10)\n",
        "    )\n",
        "\n",
        "  def forward(self,x):\n",
        "    x = self.feature(x)\n",
        "    x = x.view(x.size(0),-1)\n",
        "    x = self.fc_layer(x)\n",
        "    return x\n",
        "\n",
        "device = torch.device(\"cuda:0\" if torch.cuda.is_available() else \"cpu\")\n",
        "\n",
        "model = VGG19().to(device)\n",
        "\n",
        "loss_func = nn.CrossEntropyLoss()\n",
        "optimizer = torch.optim.Adam(model.parameters(),lr = learning_rate)\n",
        "\n",
        "for i in range(num_epoch):\n",
        "  for j,[image,label] in enumerate(trainloader):\n",
        "    x = image.to(device)\n",
        "    y_ = label.to(device)\n",
        "\n",
        "    optimizer.zero_grad()\n",
        "    output = model.forward(x)\n",
        "    loss = loss_func(output,y_)\n",
        "    loss.backward()\n",
        "    optimizer.step()\n",
        "  \n",
        "  if i % 10 == 0:\n",
        "    print(loss)\n",
        "\n",
        "#Model_2 Evaluation\n",
        "correct = 0\n",
        "total = 0\n",
        "with torch.no_grad():\n",
        "  model.eval()\n",
        "  for data in testloader:\n",
        "    images, labels = data[0].to(device), data[1].to(device)\n",
        "    outputs = model(images)\n",
        "    _, predicted = torch.max(outputs,1)\n",
        "    total += labels.size(0)\n",
        "    correct += (predicted == labels).sum().item()\n",
        "\n",
        "  print('Test accuracy: %.2f %%'%(100*correct/total))"
      ],
      "metadata": {
        "colab": {
          "base_uri": "https://localhost:8080/"
        },
        "id": "4phNSw6RJElr",
        "outputId": "3dcb1bad-fc2d-4790-8367-903f2137eaca"
      },
      "execution_count": null,
      "outputs": [
        {
          "output_type": "stream",
          "name": "stdout",
          "text": [
            "tensor(2.1956, device='cuda:0', grad_fn=<NllLossBackward0>)\n",
            "tensor(0.6520, device='cuda:0', grad_fn=<NllLossBackward0>)\n",
            "tensor(0.1441, device='cuda:0', grad_fn=<NllLossBackward0>)\n",
            "tensor(0.0227, device='cuda:0', grad_fn=<NllLossBackward0>)\n",
            "tensor(0.0010, device='cuda:0', grad_fn=<NllLossBackward0>)\n",
            "Test accuracy: 77.92 %\n"
          ]
        }
      ]
    },
    {
      "cell_type": "code",
      "source": [
        "#Model_3 architecture\n",
        "\n",
        "class VGG13(nn.Module):\n",
        "  def __init__(self):\n",
        "    super(VGG13,self).__init__()\n",
        "    self.feature = nn.Sequential(\n",
        "        conv_2_block(3,64),\n",
        "        conv_2_block(64,128),\n",
        "        conv_2_block(128,256),\n",
        "        conv_2_block(256,512),\n",
        "        conv_2_block(512,512),\n",
        "    )\n",
        "    self.fc_layer = nn.Sequential(\n",
        "        nn.Linear(512,100),\n",
        "        nn.ReLU(True),\n",
        "        nn.Linear(100,20),\n",
        "        nn.ReLU(True),\n",
        "        nn.Linear(20,10)\n",
        "    )\n",
        "\n",
        "  def forward(self,x):\n",
        "    x = self.feature(x)\n",
        "    x = x.view(x.size(0),-1)\n",
        "    x = self.fc_layer(x)\n",
        "    return x\n",
        "\n",
        "device = torch.device(\"cuda:0\" if torch.cuda.is_available() else \"cpu\")\n",
        "\n",
        "model = VGG13().to(device)\n",
        "\n",
        "loss_func = nn.CrossEntropyLoss()\n",
        "optimizer = torch.optim.Adam(model.parameters(),lr = learning_rate)\n",
        "\n",
        "for i in range(num_epoch):\n",
        "  for j,[image,label] in enumerate(trainloader):\n",
        "    x = image.to(device)\n",
        "    y_ = label.to(device)\n",
        "\n",
        "    optimizer.zero_grad()\n",
        "    output = model.forward(x)\n",
        "    loss = loss_func(output,y_)\n",
        "    loss.backward()\n",
        "    optimizer.step()\n",
        "  \n",
        "  if i % 10 == 0:\n",
        "    print(loss)\n",
        "\n",
        "#Model_3 Evaluation\n",
        "correct = 0\n",
        "total = 0\n",
        "with torch.no_grad():\n",
        "  model.eval()\n",
        "  for data in testloader:\n",
        "    images, labels = data[0].to(device), data[1].to(device)\n",
        "    outputs = model(images)\n",
        "    _, predicted = torch.max(outputs,1)\n",
        "    total += labels.size(0)\n",
        "    correct += (predicted == labels).sum().item()\n",
        "\n",
        "  print('Test accuracy: %.2f %%'%(100*correct/total))"
      ],
      "metadata": {
        "colab": {
          "base_uri": "https://localhost:8080/"
        },
        "id": "kSUfow5vOhnS",
        "outputId": "617d244b-e409-4847-9a78-f59e43f3b7c1"
      },
      "execution_count": null,
      "outputs": [
        {
          "output_type": "stream",
          "name": "stdout",
          "text": [
            "tensor(1.9988, device='cuda:0', grad_fn=<NllLossBackward0>)\n",
            "tensor(0.2293, device='cuda:0', grad_fn=<NllLossBackward0>)\n",
            "tensor(0.0059, device='cuda:0', grad_fn=<NllLossBackward0>)\n",
            "tensor(0.0102, device='cuda:0', grad_fn=<NllLossBackward0>)\n",
            "tensor(0.0061, device='cuda:0', grad_fn=<NllLossBackward0>)\n",
            "Test accuracy: 78.18 %\n"
          ]
        }
      ]
    },
    {
      "cell_type": "code",
      "source": [
        "torch.save(model,'model.pt')"
      ],
      "metadata": {
        "id": "xw98n8VQ3BKG"
      },
      "execution_count": null,
      "outputs": []
    },
    {
      "cell_type": "markdown",
      "source": [
        "최종 성능 78.18%로 모델 3(합성곱 층 10개)에서 가장 높은 성능을 기록함."
      ],
      "metadata": {
        "id": "0vec9bt01cwW"
      }
    },
    {
      "cell_type": "markdown",
      "source": [
        "사전 훈련된 구현 모델을 이용해서 하려 했으나 colab에서 이용량이 계속 초과되어 자동 종료되는 바람에 사전훈련 모델을 사용하지는 못했습니다."
      ],
      "metadata": {
        "id": "jDYOoa9H2EGt"
      }
    },
    {
      "cell_type": "code",
      "source": [
        "#2번\n",
        "\n",
        "#import modules\n",
        "import torch\n",
        "import torch.nn as nn\n",
        "import torch.optim as optim\n",
        "import torch.nn.init as init\n",
        "\n",
        "import torchvision.datasets as dset\n",
        "import torchvision.transforms as transforms\n",
        "from torch.utils.data import DataLoader\n",
        "\n",
        "import numpy as np\n",
        "import matplotlib.pyplot as plt"
      ],
      "metadata": {
        "id": "o0sk9PS0AhBJ"
      },
      "execution_count": null,
      "outputs": []
    },
    {
      "cell_type": "code",
      "source": [
        "#Data Preparation\n",
        "transf = transforms.Compose([\n",
        "                             transforms.Resize(32),\n",
        "                             transforms.ToTensor(),\n",
        "                             ])\n",
        "\n",
        "trainset = dset.STL10(root='./data',split='train',download=True,transform=transf)\n",
        "testset = dset.STL10(root='./data',split='test',download=True,transform=transf)\n",
        "\n",
        "batch_size = 32\n",
        "learning_rate = 0.0001\n",
        "num_epoch = 50\n",
        "\n",
        "trainloader = DataLoader(trainset, batch_size=32)\n",
        "testloader = DataLoader(testset, batch_size=32)\n",
        "\n",
        "def conv_2_block(in_dim,out_dim):\n",
        "  model = nn.Sequential(\n",
        "      nn.Conv2d(in_dim,out_dim,kernel_size=3,padding=1),\n",
        "      nn.ReLU(),\n",
        "      nn.Conv2d(out_dim,out_dim,kernel_size=3,padding=1),\n",
        "      nn.ReLU(),\n",
        "      nn.MaxPool2d(2,2)\n",
        "  )\n",
        "  return model\n",
        "\n",
        "\n",
        "def conv_3_block(in_dim,out_dim):\n",
        "  model = nn.Sequential(\n",
        "      nn.Conv2d(in_dim,out_dim,kernel_size=3,padding=1),\n",
        "      nn.ReLU(),\n",
        "      nn.Conv2d(out_dim,out_dim,kernel_size=3,padding=1),\n",
        "      nn.ReLU(),\n",
        "      nn.Conv2d(out_dim,out_dim,kernel_size=3,padding=1),\n",
        "      nn.ReLU(),\n",
        "      nn.MaxPool2d(2,2)\n",
        "  )\n",
        "  return model\n",
        "\n",
        "def conv_4_block(in_dim,out_dim):\n",
        "  model = nn.Sequential(\n",
        "      nn.Conv2d(in_dim,out_dim,kernel_size=3,padding=1),\n",
        "      nn.ReLU(),\n",
        "      nn.Conv2d(out_dim,out_dim,kernel_size=3,padding=1),\n",
        "      nn.ReLU(),\n",
        "      nn.Conv2d(out_dim,out_dim,kernel_size=3,padding=1),\n",
        "      nn.ReLU(),\n",
        "      nn.Conv2d(out_dim,out_dim,kernel_size=3,padding=1),\n",
        "      nn.ReLU(),\n",
        "      nn.MaxPool2d(2,2)\n",
        "  )\n",
        "  return model"
      ],
      "metadata": {
        "id": "caK7SNreAjFO",
        "colab": {
          "base_uri": "https://localhost:8080/",
          "height": 103,
          "referenced_widgets": [
            "dff895886c30415585db9cd370ebaf3b",
            "0105a2774f6d43119f1b1f39ef83bd0d",
            "a31e7127197049bb9e336b242a9094bd",
            "10cc0c7f1e644bdcb3e22941bd359b2b",
            "bc679f3d089545569a3a6860b8a80571",
            "097a0c28096141d08b15cffd188b386b",
            "d77790d9a6e943de95758e8ff9c2922a",
            "84549b187ffb49968ea9287526b450d1",
            "6aecea7d1a924ea787a5f7b4976339ba",
            "b1a3c834b1fa4e4a925d83c5713a49c4",
            "9dc52f24009e464db7056ed5f9baac25"
          ]
        },
        "outputId": "4153ea1e-a51e-4389-a4ba-28b0e628254a"
      },
      "execution_count": null,
      "outputs": [
        {
          "output_type": "stream",
          "name": "stdout",
          "text": [
            "Downloading http://ai.stanford.edu/~acoates/stl10/stl10_binary.tar.gz to ./data/stl10_binary.tar.gz\n"
          ]
        },
        {
          "output_type": "display_data",
          "data": {
            "text/plain": [
              "  0%|          | 0/2640397119 [00:00<?, ?it/s]"
            ],
            "application/vnd.jupyter.widget-view+json": {
              "version_major": 2,
              "version_minor": 0,
              "model_id": "dff895886c30415585db9cd370ebaf3b"
            }
          },
          "metadata": {}
        },
        {
          "output_type": "stream",
          "name": "stdout",
          "text": [
            "Extracting ./data/stl10_binary.tar.gz to ./data\n",
            "Files already downloaded and verified\n"
          ]
        }
      ]
    },
    {
      "cell_type": "code",
      "source": [
        "#Model_1 architecture\n",
        "\n",
        "class VGG16(nn.Module):\n",
        "  def __init__(self):\n",
        "    super(VGG16,self).__init__()\n",
        "    self.feature = nn.Sequential(\n",
        "        conv_2_block(3,64),\n",
        "        conv_2_block(64,128),\n",
        "        conv_3_block(128,256),\n",
        "        conv_3_block(256,512),\n",
        "        conv_3_block(512,512),\n",
        "    )\n",
        "    self.fc_layer = nn.Sequential(\n",
        "        nn.Linear(512,100),\n",
        "        nn.ReLU(True),\n",
        "        nn.Linear(100,20),\n",
        "        nn.ReLU(True),\n",
        "        nn.Linear(20,10)\n",
        "    )\n",
        "\n",
        "  def forward(self,x):\n",
        "    x = self.feature(x)\n",
        "    x = x.view(x.size(0),-1)\n",
        "    x = self.fc_layer(x)\n",
        "    return x"
      ],
      "metadata": {
        "id": "bu-Ext6aAs7G"
      },
      "execution_count": null,
      "outputs": []
    },
    {
      "cell_type": "code",
      "source": [
        "device = torch.device(\"cuda:0\" if torch.cuda.is_available() else \"cpu\")\n",
        "\n",
        "model = VGG16().to(device)\n",
        "\n",
        "loss_func = nn.CrossEntropyLoss()\n",
        "optimizer = torch.optim.Adam(model.parameters(),lr = learning_rate)"
      ],
      "metadata": {
        "id": "ryQImhvIAvg2"
      },
      "execution_count": null,
      "outputs": []
    },
    {
      "cell_type": "code",
      "source": [
        "for i in range(num_epoch):\n",
        "  for j,[image,label] in enumerate(trainloader):\n",
        "    x = image.to(device)\n",
        "    y_ = label.to(device)\n",
        "\n",
        "    optimizer.zero_grad()\n",
        "    output = model.forward(x)\n",
        "    loss = loss_func(output,y_)\n",
        "    loss.backward()\n",
        "    optimizer.step()\n",
        "  \n",
        "  if i % 10 == 0:\n",
        "    print(loss)\n",
        "\n",
        "#Model_1 Evaluation\n",
        "correct = 0\n",
        "total = 0\n",
        "with torch.no_grad():\n",
        "  model.eval()\n",
        "  for data in testloader:\n",
        "    images, labels = data[0].to(device), data[1].to(device)\n",
        "    outputs = model(images)\n",
        "    _, predicted = torch.max(outputs,1)\n",
        "    total += labels.size(0)\n",
        "    correct += (predicted == labels).sum().item()\n",
        "\n",
        "  print('Test accuracy: %.2f %%'%(100*correct/total))"
      ],
      "metadata": {
        "id": "ByTofy0-Axtv",
        "colab": {
          "base_uri": "https://localhost:8080/"
        },
        "outputId": "a5e7554b-0985-4426-b077-07a79d63cafa"
      },
      "execution_count": null,
      "outputs": [
        {
          "output_type": "stream",
          "name": "stdout",
          "text": [
            "tensor(1.0526, device='cuda:0', grad_fn=<NllLossBackward0>)\n",
            "tensor(0.9179, device='cuda:0', grad_fn=<NllLossBackward0>)\n",
            "tensor(0.4233, device='cuda:0', grad_fn=<NllLossBackward0>)\n",
            "tensor(0.1617, device='cuda:0', grad_fn=<NllLossBackward0>)\n",
            "tensor(0.0393, device='cuda:0', grad_fn=<NllLossBackward0>)\n",
            "Test accuracy: 45.21 %\n"
          ]
        }
      ]
    },
    {
      "cell_type": "code",
      "source": [
        "#model1 evaluation\n",
        "\n",
        "class VGG19(nn.Module):\n",
        "  def __init__(self):\n",
        "    super(VGG19,self).__init__()\n",
        "    self.feature = nn.Sequential(\n",
        "        conv_2_block(3,64),\n",
        "        conv_2_block(64,128),\n",
        "        conv_4_block(128,256),\n",
        "        conv_4_block(256,512),\n",
        "        conv_4_block(512,512),\n",
        "    )\n",
        "    self.fc_layer = nn.Sequential(\n",
        "        nn.Linear(512,100),\n",
        "        nn.ReLU(True),\n",
        "        nn.Linear(100,20),\n",
        "        nn.ReLU(True),\n",
        "        nn.Linear(20,10)\n",
        "    )\n",
        "\n",
        "  def forward(self,x):\n",
        "    x = self.feature(x)\n",
        "    x = x.view(x.size(0),-1)\n",
        "    x = self.fc_layer(x)\n",
        "    return x\n",
        "\n",
        "device = torch.device(\"cuda:0\" if torch.cuda.is_available() else \"cpu\")\n",
        "\n",
        "model = VGG19().to(device)\n",
        "\n",
        "loss_func = nn.CrossEntropyLoss()\n",
        "optimizer = torch.optim.Adam(model.parameters(),lr = learning_rate)\n",
        "\n",
        "for i in range(num_epoch):\n",
        "  for j,[image,label] in enumerate(trainloader):\n",
        "    x = image.to(device)\n",
        "    y_ = label.to(device)\n",
        "\n",
        "    optimizer.zero_grad()\n",
        "    output = model.forward(x)\n",
        "    loss = loss_func(output,y_)\n",
        "    loss.backward()\n",
        "    optimizer.step()\n",
        "  \n",
        "  if i % 10 == 0:\n",
        "    print(loss)\n",
        "\n",
        "#Model_2 Evaluation\n",
        "correct = 0\n",
        "total = 0\n",
        "with torch.no_grad():\n",
        "  model.eval()\n",
        "  for data in testloader:\n",
        "    images, labels = data[0].to(device), data[1].to(device)\n",
        "    outputs = model(images)\n",
        "    _, predicted = torch.max(outputs,1)\n",
        "    total += labels.size(0)\n",
        "    correct += (predicted == labels).sum().item()\n",
        "\n",
        "  print('Test accuracy: %.2f %%'%(100*correct/total))"
      ],
      "metadata": {
        "id": "8QkEspzhA351",
        "colab": {
          "base_uri": "https://localhost:8080/"
        },
        "outputId": "85a70da8-a77c-486f-9dda-6756ba890d8f"
      },
      "execution_count": null,
      "outputs": [
        {
          "output_type": "stream",
          "name": "stdout",
          "text": [
            "tensor(2.3110, device='cuda:0', grad_fn=<NllLossBackward0>)\n",
            "tensor(2.3007, device='cuda:0', grad_fn=<NllLossBackward0>)\n",
            "tensor(1.8031, device='cuda:0', grad_fn=<NllLossBackward0>)\n",
            "tensor(1.7406, device='cuda:0', grad_fn=<NllLossBackward0>)\n",
            "tensor(1.4699, device='cuda:0', grad_fn=<NllLossBackward0>)\n",
            "Test accuracy: 38.08 %\n"
          ]
        }
      ]
    },
    {
      "cell_type": "code",
      "source": [
        "#Model_3 architecture\n",
        "\n",
        "class VGGself(nn.Module):\n",
        "  def __init__(self):\n",
        "    super(VGGself,self).__init__()\n",
        "    self.feature = nn.Sequential(\n",
        "        conv_2_block(3,64),\n",
        "        conv_3_block(64,128),\n",
        "        conv_3_block(128,256),\n",
        "        conv_3_block(256,512),\n",
        "        conv_4_block(512,512),\n",
        "    )\n",
        "    self.fc_layer = nn.Sequential(\n",
        "        nn.Linear(512,100),\n",
        "        nn.ReLU(True),\n",
        "        nn.Linear(100,20),\n",
        "        nn.ReLU(True),\n",
        "        nn.Linear(20,10)\n",
        "    )\n",
        "\n",
        "  def forward(self,x):\n",
        "    x = self.feature(x)\n",
        "    x = x.view(x.size(0),-1)\n",
        "    x = self.fc_layer(x)\n",
        "    return x\n",
        "\n",
        "device = torch.device(\"cuda:0\" if torch.cuda.is_available() else \"cpu\")\n",
        "\n",
        "model = VGGself().to(device)\n",
        "\n",
        "loss_func = nn.CrossEntropyLoss()\n",
        "optimizer = torch.optim.Adam(model.parameters(),lr = learning_rate)\n",
        "\n",
        "for i in range(num_epoch):\n",
        "  for j,[image,label] in enumerate(trainloader):\n",
        "    x = image.to(device)\n",
        "    y_ = label.to(device)\n",
        "\n",
        "    optimizer.zero_grad()\n",
        "    output = model.forward(x)\n",
        "    loss = loss_func(output,y_)\n",
        "    loss.backward()\n",
        "    optimizer.step()\n",
        "  \n",
        "  if i % 10 == 0: \n",
        "    print(loss)\n",
        "\n",
        "#Model_3 Evaluation\n",
        "correct = 0\n",
        "total = 0\n",
        "with torch.no_grad():\n",
        "  model.eval()\n",
        "  for data in testloader:\n",
        "    images, labels = data[0].to(device), data[1].to(device)\n",
        "    outputs = model(images)\n",
        "    _, predicted = torch.max(outputs,1)\n",
        "    total += labels.size(0)\n",
        "    correct += (predicted == labels).sum().item()\n",
        "\n",
        "  print('Test accuracy: %.2f %%'%(100*correct/total))"
      ],
      "metadata": {
        "id": "QGYZ5QC9A-QV",
        "colab": {
          "base_uri": "https://localhost:8080/"
        },
        "outputId": "0c6f91fe-cb7a-4c92-9f56-b25af62cb8ef"
      },
      "execution_count": null,
      "outputs": [
        {
          "output_type": "stream",
          "name": "stdout",
          "text": [
            "tensor(2.2865, device='cuda:0', grad_fn=<NllLossBackward0>)\n",
            "tensor(2.2849, device='cuda:0', grad_fn=<NllLossBackward0>)\n",
            "tensor(1.8200, device='cuda:0', grad_fn=<NllLossBackward0>)\n",
            "tensor(1.6949, device='cuda:0', grad_fn=<NllLossBackward0>)\n",
            "tensor(1.2757, device='cuda:0', grad_fn=<NllLossBackward0>)\n",
            "Test accuracy: 39.60 %\n"
          ]
        }
      ]
    },
    {
      "cell_type": "markdown",
      "source": [
        "최종 성능 45.21%로 모델 1(합성곱 층 13개)에서 가장 높은 성능을 기록함"
      ],
      "metadata": {
        "id": "v_xQQEMFBDMM"
      }
    }
  ]
}