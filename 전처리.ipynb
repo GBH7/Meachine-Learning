{
  "nbformat": 4,
  "nbformat_minor": 0,
  "metadata": {
    "colab": {
      "provenance": [],
      "collapsed_sections": [],
      "authorship_tag": "ABX9TyMBdwDP8KhzdwC3zSNZH2Op"
    },
    "kernelspec": {
      "name": "python3",
      "display_name": "Python 3"
    },
    "language_info": {
      "name": "python"
    }
  },
  "cells": [
    {
      "cell_type": "code",
      "execution_count": 3,
      "metadata": {
        "colab": {
          "base_uri": "https://localhost:8080/",
          "height": 265
        },
        "id": "5L0xKFl1bbAR",
        "outputId": "4707897e-c1fb-436d-a207-860b9716a325"
      },
      "outputs": [
        {
          "output_type": "display_data",
          "data": {
            "text/plain": [
              "<Figure size 432x288 with 1 Axes>"
            ],
            "image/png": "[encoded data removed]"
          },
          "metadata": {
            "needs_background": "light"
          }
        }
      ],
      "source": [
        "import matplotlib.pyplot as plt\n",
        "\n",
        "labels = ['A', 'B', 'C', 'D', 'E']\n",
        "ratio = [4,3,2,2,1]\n",
        "    \n",
        "#막대 그래프\n",
        "fig, ax = plt.subplots()\n",
        "\n",
        "plt.bar(labels, ratio)\n",
        "#ax.bar(labels, ratio)\n",
        "\n",
        "plt.show()"
      ]
    },
    {
      "cell_type": "code",
      "source": [
        "#표준편차 계산함수 stdev()\n",
        "#std = stdev(array)"
      ],
      "metadata": {
        "id": "ABZHUhDXb0nh"
      },
      "execution_count": null,
      "outputs": []
    },
    {
      "cell_type": "code",
      "source": [
        "#명목형 자료 변환 - 수치 맵핑\n",
        "#DataFrame.replace({A:B, C:D,...})\n",
        "import pandas as pd\n",
        "\n",
        "titanic = pd.read_csv('titanic.csv')\n",
        "print('변환 전: \\n',titanic['Sex'].head())\n",
        "\n",
        "titanic = titanic.replace({'male': 0, 'female': 1})"
      ],
      "metadata": {
        "id": "eYizgz1QcF1y"
      },
      "execution_count": null,
      "outputs": []
    },
    {
      "cell_type": "code",
      "source": [
        "#명목형 자료 변환 - 더미 방식\n",
        "#pd.get_dummies(DataFrame[[변수명]])\n",
        "import pandas as pd\n",
        "\n",
        "titanic = pd.read_csv('titanic.csv')\n",
        "print('변환 전: \\n',titanic['Embarked'].head())\n",
        "\n",
        "dummies = pd.get_dummies(titanic[['Embarked']])"
      ],
      "metadata": {
        "id": "mW4khnwScpz5"
      },
      "execution_count": null,
      "outputs": []
    },
    {
      "cell_type": "code",
      "source": [
        "#수치형 자료 변환 - 정규화\n",
        "import pandas as pd\n",
        "#정규화 함수 구현\n",
        "def normal(data):\n",
        "    data = (data-data.min())/(data.max()-data.min())\n",
        "    return data\n",
        "\n",
        "titanic = pd.read_csv('titanic.csv')\n",
        "\n",
        "Fare = normal(titanic['Fare'])"
      ],
      "metadata": {
        "id": "zJWHBUY6chmm"
      },
      "execution_count": null,
      "outputs": []
    },
    {
      "cell_type": "code",
      "source": [
        "#수치형 자료 변환 - 표준화\n",
        "import pandas as pd\n",
        "#표준화 함수 구현\n",
        "def standard(data):\n",
        "    data = (data-data.mean())/data.std()\n",
        "    return data\n",
        "    \n",
        "titanic = pd.read_csv('titanic.csv')\n",
        "\n",
        "Fare = standard(titanic['Fare'])"
      ],
      "metadata": {
        "id": "lXOAkp2ZdSov"
      },
      "execution_count": null,
      "outputs": []
    },
    {
      "cell_type": "code",
      "source": [
        "#결측값 처리\n",
        "import pandas as pd\n",
        "\n",
        "titanic = pd.read_csv('titanic.csv')\n",
        "# 결측값 어디있는지 확인\n",
        "print(titanic.info(),'\\n')\n",
        "\n",
        "#변수 제거\n",
        "titanic_1 = titanic.drop(columns=['Cabin'])\n",
        "# Cabin 변수를 제거 후 결측값이 어디에 남아 있는지 확인합니다.\n",
        "\n",
        "#결측값 있는 샘플 제거\n",
        "titanic_2 = titanic_1.dropna()\n",
        "\n",
        "print(titanic_2.info())"
      ],
      "metadata": {
        "id": "_IvdGfBSd01V"
      },
      "execution_count": null,
      "outputs": []
    },
    {
      "cell_type": "code",
      "source": [
        "#이상치 처리\n",
        "import pandas as pd\n",
        "import numpy as np\n",
        "\n",
        "titanic = pd.read_csv('titanic.csv')\n",
        "\n",
        "titanic_1 = titanic.drop(columns=['Cabin'])\n",
        "titanic_2 = titanic_1.dropna()\n",
        "\n",
        "# (Age 값 - 내림 Age 값) 0 보다 크다면 소수점을 갖는 데이터로 분류\n",
        "outlier = titanic_2[titanic_2['Age']-np.floor(titanic_2['Age']) > 0 ]['Age']\n",
        "\n",
        "print('소수점을 갖는 Age 변수 이상치')\n",
        "print(outlier)\n",
        "print('이상치 처리 전 샘플 개수: %d' %(len(titanic_2)))\n",
        "print('이상치 개수: %d' %(len(outlier)))\n",
        "\n",
        "#이상치 처리\n",
        "titanic_3 = titanic_2[titanic_2['Age']-np.floor(titanic_2['Age']) == 0 ] \n",
        "print('이상치 처리 후 샘플 개수: %d' %(len(titanic_3)))"
      ],
      "metadata": {
        "id": "8CsPTJ1KeR7b"
      },
      "execution_count": null,
      "outputs": []
    },
    {
      "cell_type": "code",
      "source": [
        "#feature 데이터와 label 데이터를 분리\n",
        "import pandas as pd\n",
        "import numpy as np\n",
        "from sklearn.model_selection import train_test_split\n",
        "\n",
        "X = titanic_3.drop(columns=['Survived'])\n",
        "y = titanic_3['Survived'] \n",
        "\n",
        "X_train, X_test, y_train, y_test = train_test_split(X, y, test_size=0.3, random_state=42)"
      ],
      "metadata": {
        "id": "dJbb1eESe7zF"
      },
      "execution_count": null,
      "outputs": []
    }
  ]
}